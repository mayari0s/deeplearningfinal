{
 "cells": [
  {
   "cell_type": "code",
   "execution_count": 2,
   "id": "69f4b4fd-5107-43d0-a197-748ab7484c18",
   "metadata": {},
   "outputs": [
    {
     "name": "stdout",
     "output_type": "stream",
     "text": [
      "2.2.2\n"
     ]
    }
   ],
   "source": [
    "import os\n",
    "import sys\n",
    "import torch\n",
    "import numpy as np\n",
    "import pandas as pd\n",
    "os.environ[\"TOKENIZERS_PARALLELISM\"] = \"false\"\n",
    "\n",
    "print(torch.__version__)\n",
    "\n"
   ]
  },
  {
   "cell_type": "code",
   "execution_count": 5,
   "id": "32a8acc8-2d08-4df5-b8c1-5fed47c6e707",
   "metadata": {},
   "outputs": [],
   "source": []
  },
  {
   "cell_type": "code",
   "execution_count": 10,
   "id": "d6436780-1fd9-4ba0-8b91-09364858b9fc",
   "metadata": {},
   "outputs": [
    {
     "name": "stdout",
     "output_type": "stream",
     "text": [
      "The path mayarios/desktop/deeplearning/potentialproject/books does not exist.\n"
     ]
    }
   ],
   "source": []
  },
  {
   "cell_type": "code",
   "execution_count": 22,
   "id": "52f4dda9-d5bb-455e-85fb-c7434d7b537e",
   "metadata": {},
   "outputs": [
    {
     "name": "stdout",
     "output_type": "stream",
     "text": [
      "Files and directories in '/Users/mayarios/Desktop/Deep Learning/potential project/books':\n",
      "Books.en-es.ids\n",
      "Books.en-es.en\n",
      "Books.en-es.es\n",
      "README\n"
     ]
    }
   ],
   "source": [
    "import os\n",
    "\n",
    "# Define the directory path (remove trailing space)\n",
    "directory = \"/Users/mayarios/Desktop/Deep Learning/potential project/books\"\n",
    "\n",
    "# Check if the directory exists\n",
    "if os.path.exists(directory):\n",
    "    # List all files and directories in the specified directory\n",
    "    files = os.listdir(directory)\n",
    "    print(f\"Files and directories in '{directory}':\")\n",
    "    for file in files:\n",
    "        print(file)\n",
    "else:\n",
    "    print(f\"The directory '{directory}' does not exist.\")"
   ]
  },
  {
   "cell_type": "code",
   "execution_count": 30,
   "id": "12431f29-6193-4fc5-8ac9-a6b7b024aa4d",
   "metadata": {},
   "outputs": [
    {
     "name": "stdout",
     "output_type": "stream",
     "text": [
      "First 5 lines of English text:\n",
      "Source: Project GutenbergAudiobook available here\n",
      "Sense and Sensibility\n",
      "Jane Austen\n",
      "CHAPTER 1\n",
      "The family of Dashwood had long been settled in Sussex.\n",
      "\n",
      "First 5 lines of Spanish text:\n",
      "Source: Wikisource & librodot.com\n",
      "SENTIDO Y SENSIBILIDAD\n",
      "JANE AUSTEN\n",
      "CAPITULO I\n",
      "La familia Dashwood llevaba largo tiempo afincada en Sussex.\n",
      "First 5 IDs:\n",
      "en/Austen_Jane-Sense_and_Sensibility.xml.gz\tes/Austen_Jane-Sense_and_Sensibility.xml.gz\ts1\ts1\n",
      "en/Austen_Jane-Sense_and_Sensibility.xml.gz\tes/Austen_Jane-Sense_and_Sensibility.xml.gz\ts2\ts2\n",
      "en/Austen_Jane-Sense_and_Sensibility.xml.gz\tes/Austen_Jane-Sense_and_Sensibility.xml.gz\ts3\ts3\n",
      "en/Austen_Jane-Sense_and_Sensibility.xml.gz\tes/Austen_Jane-Sense_and_Sensibility.xml.gz\ts4\ts4\n",
      "en/Austen_Jane-Sense_and_Sensibility.xml.gz\tes/Austen_Jane-Sense_and_Sensibility.xml.gz\ts5.0\ts5.0\n",
      "First 5 combined entries:\n",
      "{'id': 'en/Austen_Jane-Sense_and_Sensibility.xml.gz\\tes/Austen_Jane-Sense_and_Sensibility.xml.gz\\ts1\\ts1', 'english': 'Source: Project GutenbergAudiobook available here', 'spanish': 'Source: Wikisource & librodot.com'}\n",
      "{'id': 'en/Austen_Jane-Sense_and_Sensibility.xml.gz\\tes/Austen_Jane-Sense_and_Sensibility.xml.gz\\ts2\\ts2', 'english': 'Sense and Sensibility', 'spanish': 'SENTIDO Y SENSIBILIDAD'}\n",
      "{'id': 'en/Austen_Jane-Sense_and_Sensibility.xml.gz\\tes/Austen_Jane-Sense_and_Sensibility.xml.gz\\ts3\\ts3', 'english': 'Jane Austen', 'spanish': 'JANE AUSTEN'}\n",
      "{'id': 'en/Austen_Jane-Sense_and_Sensibility.xml.gz\\tes/Austen_Jane-Sense_and_Sensibility.xml.gz\\ts4\\ts4', 'english': 'CHAPTER 1', 'spanish': 'CAPITULO I'}\n",
      "{'id': 'en/Austen_Jane-Sense_and_Sensibility.xml.gz\\tes/Austen_Jane-Sense_and_Sensibility.xml.gz\\ts5.0\\ts5.0', 'english': 'The family of Dashwood had long been settled in Sussex.', 'spanish': 'La familia Dashwood llevaba largo tiempo afincada en Sussex.'}\n"
     ]
    }
   ],
   "source": [
    "# Paths to the files\n",
    "en_file = os.path.join(directory, \"Books.en-es.en\")\n",
    "es_file = os.path.join(directory, \"Books.en-es.es\")\n",
    "\n",
    "# Read the English file\n",
    "with open(en_file, \"r\") as file:\n",
    "    english_lines = file.readlines()\n",
    "\n",
    "# Read the Spanish file\n",
    "with open(es_file, \"r\") as file:\n",
    "    spanish_lines = file.readlines()\n",
    "\n",
    "# Print the first few lines as an example\n",
    "print(\"First 5 lines of English text:\")\n",
    "for line in english_lines[:5]:\n",
    "    print(line.strip())\n",
    "\n",
    "print(\"\\nFirst 5 lines of Spanish text:\")\n",
    "for line in spanish_lines[:5]:\n",
    "    print(line.strip())\n",
    "\n",
    "\n",
    "# Path to the IDs file\n",
    "ids_file = os.path.join(directory, \"Books.en-es.ids\")\n",
    "\n",
    "# Read the IDs file\n",
    "with open(ids_file, \"r\") as file:\n",
    "    ids = file.readlines()\n",
    "\n",
    "# Print the first few IDs as an example\n",
    "print(\"First 5 IDs:\")\n",
    "for id in ids[:5]:\n",
    "    print(id.strip())\n",
    "\n",
    "\n",
    "\n",
    "# Combine the data\n",
    "data = []\n",
    "for i in range(len(english_lines)):\n",
    "    entry = {\n",
    "        \"id\": ids[i].strip(),\n",
    "        \"english\": english_lines[i].strip(),\n",
    "        \"spanish\": spanish_lines[i].strip()\n",
    "    }\n",
    "    data.append(entry)\n",
    "\n",
    "# Print the first few combined entries\n",
    "print(\"First 5 combined entries:\")\n",
    "for entry in data[:5]:\n",
    "    print(entry)"
   ]
  },
  {
   "cell_type": "code",
   "execution_count": 36,
   "id": "2e4a5a92-877e-4a24-b3ba-bebb3cf96bac",
   "metadata": {},
   "outputs": [
    {
     "name": "stdout",
     "output_type": "stream",
     "text": [
      "Data saved to /Users/mayarios/Desktop/Deep Learning/potential project/books/cleaned_books_data.csv\n"
     ]
    }
   ],
   "source": [
    "import csv\n",
    "\n",
    "# Define the output CSV file\n",
    "output_csv = os.path.join(directory, \"cleaned_books_data.csv\")\n",
    "\n",
    "# Write the data to a CSV file\n",
    "with open(output_csv, \"w\", newline=\"\", encoding=\"utf-8\") as file:\n",
    "    writer = csv.DictWriter(file, fieldnames=data[0].keys())\n",
    "    writer.writeheader()\n",
    "    writer.writerows(data)\n",
    "\n",
    "print(f\"Data saved to {output_csv}\")"
   ]
  },
  {
   "cell_type": "code",
   "execution_count": 40,
   "id": "cc0cae95-69ec-4919-95c8-1fd4b13e58ae",
   "metadata": {},
   "outputs": [
    {
     "name": "stdout",
     "output_type": "stream",
     "text": [
      "Unique English sources: {'en/Bronte_Charlotte-Jane_Eyre.xml.gz', 'en/Tolstoy_Leo-Anna_Karenina_vol2.xml.gz', 'en/Austen_Jane-Sense_and_Sensibility.xml.gz', 'en/Kafka_Franz-Verwandlung.xml.gz', 'en/Doyle_Arthur_Conan-A_Study_in_Scarlet.xml.gz', 'en/Tolstoy_Leo-Anna_Karenina_vol1.xml.gz', 'en/Cervantes_Miguel-Don_Quijote.xml.gz', 'en/Doyle_Arthur_Conan-Adventures_of_Sherlock_Holmes.xml.gz', 'en/Poe_Edgar_Allan-Fall_of_the_House_of_Usher.xml.gz', 'en/Doyle_Arthur_Conan-Hound_of_the_Baskervilles.xml.gz', 'en/Verne_Jules-20000_lieues_sous_les_mers.xml.gz', 'en/Verne_Jules-Tour_du_monde_en_80_jours.xml.gz', 'en/Voltaire-Candide.xml.gz', 'en/Dumas_Alexandre-Trois_Mousquetaires.xml.gz', 'en/Verne_Jules-Voyage_au_Centre_de_la_Terre.xml.gz', 'en/Carroll_Lewis-Alice_in_wonderland.xml.gz', 'en/Defoe_Daniel-Robinson_Crusoe.xml.gz', 'en/Verne_Jules-Ile_mysterieuse.xml.gz'}\n"
     ]
    }
   ],
   "source": [
    "unique_english_sources = set(entry[\"id_english\"] for entry in data)\n",
    "print(f\"Unique English sources: {unique_english_sources}\")"
   ]
  },
  {
   "cell_type": "code",
   "execution_count": 42,
   "id": "ac37f46a-7557-464b-bad1-2df1aa6b1390",
   "metadata": {},
   "outputs": [
    {
     "name": "stdout",
     "output_type": "stream",
     "text": [
      "Files and directories in '/Users/mayarios/Desktop/Deep Learning/potential project/news':\n",
      "ELRC-1125-CORDIS_News.en-es.xml\n",
      "LICENSE\n",
      "ELRC-1125-CORDIS_News.en-es.en\n",
      "ELRC-1125-CORDIS_News.en-es.es\n",
      "README\n"
     ]
    }
   ],
   "source": [
    "import os\n",
    "\n",
    "# Define the directory path (remove trailing space)\n",
    "directory = \"/Users/mayarios/Desktop/Deep Learning/potential project/news\"\n",
    "\n",
    "# Check if the directory exists\n",
    "if os.path.exists(directory):\n",
    "    # List all files and directories in the specified directory\n",
    "    files = os.listdir(directory)\n",
    "    print(f\"Files and directories in '{directory}':\")\n",
    "    for file in files:\n",
    "        print(file)\n",
    "else:\n",
    "    print(f\"The directory '{directory}' does not exist.\")"
   ]
  },
  {
   "cell_type": "code",
   "execution_count": 48,
   "id": "8dc8b4db-7c74-4366-a7ab-f189b2864761",
   "metadata": {},
   "outputs": [
    {
     "name": "stdout",
     "output_type": "stream",
     "text": [
      "First 5 lines of English text:\n",
      "`White mould' or `Sclerotinia rot' is a very destructive plant disease which can affect agricultural crops such as oilseed rape, soybean and sunflower.\n",
      "A action-recognition system is then activated: it receives the information from the sensors, compares those with the task model corresponding to the steps of preparing a milk and sugar cup of tea.\n",
      "A actions cover demonstration projects implementing innovative energy technologies for rational use of energy, renewable energy sources, and fossil fuels;\n",
      "a) Aeronautics and space\n",
      "A. africanus lived in southern Africa over two million years ago.\n",
      "\n",
      "First 5 lines of Spanish text:\n",
      "El `moho blanco' es una enfermedad de las plantas muy destructiva que puede afectar a cultivos de semillas oleaginosas como colza, soja y girasoles.\n",
      "Entonces se activa un sistema de reconocimiento de acciones: este recibe la información de los sensores y la compara con el modelo de tareas correspondientes a los pasos necesarios para la preparación de una taza de té con leche y azúcar.\n",
      "Las acciones A abarcan proyectos de demostración que ponen en práctica tecnologías energéticas innovadoras para el uso racional de la energía, fuentes de energía renovables y combustibles fósiles;\n",
      "a) Aeronáutica y espacio\n",
      "El A. africanus vivió en el sur de África hace más de dos millones de años.\n",
      "First 5 combined entries:\n",
      "{'english': \"`White mould' or `Sclerotinia rot' is a very destructive plant disease which can affect agricultural crops such as oilseed rape, soybean and sunflower.\", 'spanish': \"El `moho blanco' es una enfermedad de las plantas muy destructiva que puede afectar a cultivos de semillas oleaginosas como colza, soja y girasoles.\"}\n",
      "{'english': 'A action-recognition system is then activated: it receives the information from the sensors, compares those with the task model corresponding to the steps of preparing a milk and sugar cup of tea.', 'spanish': 'Entonces se activa un sistema de reconocimiento de acciones: este recibe la información de los sensores y la compara con el modelo de tareas correspondientes a los pasos necesarios para la preparación de una taza de té con leche y azúcar.'}\n",
      "{'english': 'A actions cover demonstration projects implementing innovative energy technologies for rational use of energy, renewable energy sources, and fossil fuels;', 'spanish': 'Las acciones A abarcan proyectos de demostración que ponen en práctica tecnologías energéticas innovadoras para el uso racional de la energía, fuentes de energía renovables y combustibles fósiles;'}\n",
      "{'english': 'a) Aeronautics and space', 'spanish': 'a) Aeronáutica y espacio'}\n",
      "{'english': 'A. africanus lived in southern Africa over two million years ago.', 'spanish': 'El A. africanus vivió en el sur de África hace más de dos millones de años.'}\n",
      "Root element: cesAlign\n",
      "linkGrp {'targType': 's', 'fromDoc': 'en/1.xml.gz', 'toDoc': 'es/1.xml.gz'}\n"
     ]
    }
   ],
   "source": [
    "# Paths to the files\n",
    "en_file = os.path.join(directory, \"ELRC-1125-CORDIS_News.en-es.en\")\n",
    "es_file = os.path.join(directory, \"ELRC-1125-CORDIS_News.en-es.es\")\n",
    "\n",
    "# Read the English file\n",
    "with open(en_file, \"r\") as file:\n",
    "    english_lines = file.readlines()\n",
    "\n",
    "# Read the Spanish file\n",
    "with open(es_file, \"r\") as file:\n",
    "    spanish_lines = file.readlines()\n",
    "\n",
    "# Print the first few lines as an example\n",
    "print(\"First 5 lines of English text:\")\n",
    "for line in english_lines[:5]:\n",
    "    print(line.strip())\n",
    "\n",
    "print(\"\\nFirst 5 lines of Spanish text:\")\n",
    "for line in spanish_lines[:5]:\n",
    "    print(line.strip())\n",
    "\n",
    "# Combine the data\n",
    "data = []\n",
    "for i in range(len(english_lines)):\n",
    "    entry = {\n",
    "        \"english\": english_lines[i].strip(),\n",
    "        \"spanish\": spanish_lines[i].strip()\n",
    "    }\n",
    "    data.append(entry)\n",
    "\n",
    "# Print the first few combined entries\n",
    "print(\"First 5 combined entries:\")\n",
    "for entry in data[:5]:\n",
    "    print(entry)\n",
    "\n",
    "\n",
    "import xml.etree.ElementTree as ET\n",
    "\n",
    "# Path to the XML file\n",
    "xml_file = os.path.join(directory, \"ELRC-1125-CORDIS_News.en-es.xml\")\n",
    "\n",
    "# Parse the XML file\n",
    "tree = ET.parse(xml_file)\n",
    "root = tree.getroot()\n",
    "\n",
    "# Example: Print the root tag and some child elements\n",
    "print(f\"Root element: {root.tag}\")\n",
    "for child in root[:5]:  # Print first 5 child elements\n",
    "    print(child.tag, child.attrib)"
   ]
  },
  {
   "cell_type": "code",
   "execution_count": 50,
   "id": "3a8bf850-a167-4fdb-a70e-d4ce6e7a1af8",
   "metadata": {},
   "outputs": [
    {
     "name": "stdout",
     "output_type": "stream",
     "text": [
      "Data saved to /Users/mayarios/Desktop/Deep Learning/potential project/news/cleaned_news_data.csv\n"
     ]
    }
   ],
   "source": [
    "import csv\n",
    "\n",
    "# Define the output CSV file\n",
    "output_csv = os.path.join(directory, \"cleaned_news_data.csv\")\n",
    "\n",
    "# Write the data to a CSV file\n",
    "with open(output_csv, \"w\", newline=\"\", encoding=\"utf-8\") as file:\n",
    "    writer = csv.DictWriter(file, fieldnames=data[0].keys())\n",
    "    writer.writeheader()\n",
    "    writer.writerows(data)\n",
    "\n",
    "print(f\"Data saved to {output_csv}\")"
   ]
  },
  {
   "cell_type": "code",
   "execution_count": 52,
   "id": "03969960-6c2f-46ea-bdbd-77e22c944437",
   "metadata": {},
   "outputs": [
    {
     "name": "stdout",
     "output_type": "stream",
     "text": [
      "Data saved to /Users/mayarios/Desktop/Deep Learning/potential project/news/cleaned_news_data.json\n"
     ]
    }
   ],
   "source": [
    "import json\n",
    "\n",
    "# Define the output JSON file\n",
    "output_json = os.path.join(directory, \"cleaned_news_data.json\")\n",
    "\n",
    "# Write the data to a JSON file\n",
    "with open(output_json, \"w\", encoding=\"utf-8\") as file:\n",
    "    json.dump(data, file, indent=4)\n",
    "\n",
    "print(f\"Data saved to {output_json}\")"
   ]
  },
  {
   "cell_type": "code",
   "execution_count": 54,
   "id": "eeb68bf9-9938-4026-9500-83d76a2bd744",
   "metadata": {},
   "outputs": [
    {
     "name": "stdout",
     "output_type": "stream",
     "text": [
      "Data saved to /Users/mayarios/Desktop/Deep Learning/potential project/news/cleaned_books_data.json\n"
     ]
    }
   ],
   "source": [
    "import json\n",
    "\n",
    "# Define the output JSON file\n",
    "output_json = os.path.join(directory, \"cleaned_books_data.json\")\n",
    "\n",
    "# Write the data to a JSON file\n",
    "with open(output_json, \"w\", encoding=\"utf-8\") as file:\n",
    "    json.dump(data, file, indent=4)\n",
    "\n",
    "print(f\"Data saved to {output_json}\")"
   ]
  },
  {
   "cell_type": "code",
   "execution_count": null,
   "id": "458f5153-3e7d-4e47-94dd-b5a43e858729",
   "metadata": {},
   "outputs": [],
   "source": []
  }
 ],
 "metadata": {
  "kernelspec": {
   "display_name": "Python 3 (ipykernel)",
   "language": "python",
   "name": "python3"
  },
  "language_info": {
   "codemirror_mode": {
    "name": "ipython",
    "version": 3
   },
   "file_extension": ".py",
   "mimetype": "text/x-python",
   "name": "python",
   "nbconvert_exporter": "python",
   "pygments_lexer": "ipython3",
   "version": "3.12.4"
  }
 },
 "nbformat": 4,
 "nbformat_minor": 5
}
