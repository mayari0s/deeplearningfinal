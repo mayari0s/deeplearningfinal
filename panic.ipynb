{
 "cells": [
  {
   "cell_type": "code",
   "execution_count": 4,
   "id": "69f4b4fd-5107-43d0-a197-748ab7484c18",
   "metadata": {},
   "outputs": [
    {
     "name": "stdout",
     "output_type": "stream",
     "text": [
      "2.1.0.dev20230610\n"
     ]
    }
   ],
   "source": [
    "import os\n",
    "import sys\n",
    "import torch\n",
    "import numpy as np\n",
    "import pandas as pd\n",
    "os.environ[\"TOKENIZERS_PARALLELISM\"] = \"false\"\n",
    "\n",
    "print(torch.__version__)\n",
    "\n"
   ]
  },
  {
   "cell_type": "code",
   "execution_count": 5,
   "id": "32a8acc8-2d08-4df5-b8c1-5fed47c6e707",
   "metadata": {},
   "outputs": [],
   "source": [
    "try:\n",
    "    import transformers\n",
    "    import datasets\n",
    "    import evaluate\n",
    "    import accelerate\n",
    "except ImportError:\n",
    "    !pip install transformers datasets evaluate accelerate\n",
    "    sys.exit()"
   ]
  },
  {
   "cell_type": "code",
   "execution_count": 7,
   "id": "d6436780-1fd9-4ba0-8b91-09364858b9fc",
   "metadata": {},
   "outputs": [
    {
     "name": "stdout",
     "output_type": "stream",
     "text": [
      "  english  spanish\n",
      "0     Go.      Ve.\n",
      "1     Go.    Vete.\n",
      "2     Go.    Vaya.\n",
      "3     Go.  Váyase.\n",
      "4     Hi.    Hola.\n"
     ]
    }
   ],
   "source": [
    "from datasets import load_dataset\n",
    "import torch.nn as nn\n",
    "import torch.optim as optim\n",
    "from pathlib import Path\n",
    "\n",
    "span = Path(\"data/project/data.csv\")\n",
    "df = pd.read_csv(span)\n",
    "print(df.head())"
   ]
  },
  {
   "cell_type": "code",
   "execution_count": null,
   "id": "52f4dda9-d5bb-455e-85fb-c7434d7b537e",
   "metadata": {},
   "outputs": [],
   "source": []
  }
 ],
 "metadata": {
  "kernelspec": {
   "display_name": "Python 3 (ipykernel)",
   "language": "python",
   "name": "python3"
  },
  "language_info": {
   "codemirror_mode": {
    "name": "ipython",
    "version": 3
   },
   "file_extension": ".py",
   "mimetype": "text/x-python",
   "name": "python",
   "nbconvert_exporter": "python",
   "pygments_lexer": "ipython3",
   "version": "3.8.16"
  }
 },
 "nbformat": 4,
 "nbformat_minor": 5
}
